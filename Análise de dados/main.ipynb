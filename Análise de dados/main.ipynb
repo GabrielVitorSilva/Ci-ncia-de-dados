{
 "cells": [
  {
   "cell_type": "markdown",
   "id": "df306028",
   "metadata": {},
   "source": [
    "# Introdução a Análise de Dados\n",
    "\n",
    "### Como funciona um Projeto de Análise de Dados?\n",
    "\n",
    "Os projetos de Análise de Dados são na verdade Desafios das Empresas\n",
    "\n",
    "### Desafio\n",
    "\n",
    "- Empresa Vende Bermudas\n",
    "- 5 Lojas\n",
    "- Está querendo aumentar as vendas\n",
    "- O que fazer?\n",
    "- Informações Disponíveis: Base de Vendas"
   ]
  },
  {
   "cell_type": "markdown",
   "id": "29acec1f",
   "metadata": {},
   "source": [
    "### Passo 1 - Trazer sua base de dados para o Python e ver o que tem nela"
   ]
  },
  {
   "cell_type": "code",
   "execution_count": null,
   "id": "194777c9",
   "metadata": {},
   "outputs": [],
   "source": [
    "import pandas as pd\n",
    "\n",
    "tabela = pd.read_excel(\"Vendas.xlsx\")\n",
    "display(tabela)"
   ]
  },
  {
   "cell_type": "markdown",
   "id": "578672e0",
   "metadata": {},
   "source": [
    "### Passo 2 - Pegar um panorama geral sobre a sua base de dados"
   ]
  },
  {
   "cell_type": "code",
   "execution_count": null,
   "id": "037ce3ca",
   "metadata": {},
   "outputs": [],
   "source": [
    "faturamento_total = tabela[\"Valor Final\"].sum()\n",
    "print(faturamento_total)"
   ]
  },
  {
   "cell_type": "markdown",
   "id": "bef847a6",
   "metadata": {},
   "source": [
    "### Passo 3 - Começar sua análise Top -> Down"
   ]
  },
  {
   "cell_type": "code",
   "execution_count": null,
   "id": "9a740aa7",
   "metadata": {},
   "outputs": [],
   "source": [
    "# faturamento por loja\n",
    "faturamento_por_loja = tabela[[\"ID Loja\", \"Valor Final\"]].groupby(\"ID Loja\").sum()\n",
    "display(faturamento_por_loja)"
   ]
  },
  {
   "cell_type": "markdown",
   "id": "335db628",
   "metadata": {},
   "source": [
    "### Passo 4 - Entrar no detalhe pra entender"
   ]
  },
  {
   "cell_type": "code",
   "execution_count": null,
   "id": "874c99bc",
   "metadata": {},
   "outputs": [],
   "source": [
    "faturamento_por_produto = tabela[[\"ID Loja\",\"Produto\", \"Valor Final\"]].groupby([\"ID Loja\", \"Produto\"]).sum()\n",
    "display(faturamento_por_produto)"
   ]
  }
 ],
 "metadata": {
  "kernelspec": {
   "display_name": "Python 3",
   "language": "python",
   "name": "python3"
  },
  "language_info": {
   "codemirror_mode": {
    "name": "ipython",
    "version": 3
   },
   "file_extension": ".py",
   "mimetype": "text/x-python",
   "name": "python",
   "nbconvert_exporter": "python",
   "pygments_lexer": "ipython3",
   "version": "3.11.0"
  }
 },
 "nbformat": 4,
 "nbformat_minor": 5
}
